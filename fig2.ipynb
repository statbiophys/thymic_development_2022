{
 "cells": [
  {
   "cell_type": "markdown",
   "metadata": {},
   "source": [
    "# Figure 2"
   ]
  },
  {
   "cell_type": "code",
   "execution_count": 1,
   "metadata": {},
   "outputs": [],
   "source": [
    "# Load Function Definitions \n",
    "\n",
    "import numpy as np\n",
    "import pandas as pd\n",
    "import matplotlib\n",
    "import matplotlib.pyplot as plt\n",
    "\n",
    "font = {'size'   : 8}\n",
    "matplotlib.rc('font', **font)\n",
    "\n",
    "from thymmatu.graphics.pro_plot import barPlotter, curvePlotter\n",
    "\n",
    "#  standards  #\n",
    "#  standards WEIZMANN jupyter #\n",
    "from standards import *\n",
    "\n",
    "DataPath = \"Data\"\n",
    "OutPath = \"Graphs\""
   ]
  },
  {
   "cell_type": "markdown",
   "metadata": {},
   "source": [
    "## Gene Distribution"
   ]
  },
  {
   "cell_type": "code",
   "execution_count": 2,
   "metadata": {},
   "outputs": [
    {
     "data": {
      "image/png": "[encoded data removed]",
      "text/plain": [
       "<Figure size 554.4x144 with 1 Axes>"
      ]
     },
     "metadata": {
      "needs_background": "light"
     },
     "output_type": "display_data"
    }
   ],
   "source": [
    "#  OPTIONS  #\n",
    "\n",
    "GENE = \"V\"\n",
    "n_choice = 7\n",
    "figsize = ( n_choice * 1.1, 2 )\n",
    "\n",
    "df = pd.read_csv(f'{DataPath}/CA-prod-{GENE}_usage.csv', index_col=0 )\n",
    "\n",
    "columns = [c for c in df.columns if 'err' not in c]\n",
    "errorbars = [ c + ' err' for c in columns ]\n",
    "colors = [ EXP15_KOL[c] for c in columns ] \n",
    "\n",
    "df = df.iloc[np.arange(n_choice)]\n",
    "ax = barPlotter( df, colors=colors, hatch=None, grid=True,\n",
    "                columns=columns, figsize=figsize, errorbars=errorbars, rotation=0 )\n",
    "plt.margins(0)\n",
    "plt.legend(ncol=1, shadow=False, bbox_to_anchor=(1,.5), loc='center left',\n",
    "            edgecolor='inherit', framealpha=1)\n",
    "\n",
    "for i in np.arange( 1, ax.get_xlim()[1]-1, 2 ).astype(int) :\n",
    "    ax.axvspan( i, i+1, 0, 1, alpha=0.5, color=GREYS_DIC['silver'], ec=None, zorder=-10)\n",
    "\n",
    "plt.savefig( f\"{OutPath}/fig2A.pdf\", bbox_inches='tight' )\n",
    "plt.show()"
   ]
  },
  {
   "cell_type": "markdown",
   "metadata": {},
   "source": [
    "## Length Distribution"
   ]
  },
  {
   "cell_type": "code",
   "execution_count": 7,
   "metadata": {},
   "outputs": [
    {
     "data": {
      "image/png": "[encoded data removed]",
      "text/plain": [
       "<Figure size 144x108 with 1 Axes>"
      ]
     },
     "metadata": {
      "needs_background": "light"
     },
     "output_type": "display_data"
    }
   ],
   "source": [
    "#  OPTIONS  #\n",
    " \n",
    "figsize = ( 2, 1.5 )\n",
    "df = pd.read_csv(f'{DataPath}/CA-prod-lengths.csv', index_col=0 )\n",
    "    \n",
    "columns =  HEADERS + ['gen']\n",
    "errorbars = [c + ' err' for c in columns]\n",
    "colors = [ EXP15_KOL[c] for c in columns ]\n",
    "linestyle = ['-'] * len(HEADERS) + ['-']\n",
    "\n",
    "ax = curvePlotter( df, colors=colors, grid=False, legend=False, linestyle=linestyle,\n",
    "                  columns=columns, figsize=figsize, errorbars=None )\n",
    "\n",
    "plt.margins(0)\n",
    "ax.set_xlim([8, 20])\n",
    "ax.set_ylim([0, np.max(df.values) * 1.05 ])\n",
    "\n",
    "ax.set_xticks([8,12,16,20])\n",
    "\n",
    "average_lengths = np.matmul( df.index.values, df[columns].values )\n",
    "ax.axvline(x=average_lengths[0], zorder =-2, ls='--', lw=1, color=GREYS_DIC['silver'])\n",
    "\n",
    "plt.savefig( f\"{OutPath}/fig2B.pdf\", bbox_inches='tight' )\n",
    "\n",
    "plt.show()"
   ]
  },
  {
   "cell_type": "markdown",
   "metadata": {},
   "source": [
    "### Show standard deviations"
   ]
  },
  {
   "cell_type": "code",
   "execution_count": 9,
   "metadata": {},
   "outputs": [
    {
     "data": {
      "text/plain": [
       "gen         0.076350\n",
       "DP pre      0.085956\n",
       "DP dbn      0.085698\n",
       "DP pos      0.089858\n",
       "CD4 spl     0.096166\n",
       "CD4 negS    0.096935\n",
       "CD8 spl     0.090089\n",
       "CD8 negS    0.091278\n",
       "dtype: float64"
      ]
     },
     "execution_count": 9,
     "metadata": {},
     "output_type": "execute_result"
    }
   ],
   "source": [
    "df[[c for c in df if 'err' not in c]].std()"
   ]
  },
  {
   "cell_type": "markdown",
   "metadata": {},
   "source": [
    "## Pgen Distribution"
   ]
  },
  {
   "cell_type": "code",
   "execution_count": 11,
   "metadata": {},
   "outputs": [
    {
     "data": {
      "image/png": "[encoded data removed]",
      "text/plain": [
       "<Figure size 216x108 with 1 Axes>"
      ]
     },
     "metadata": {
      "needs_background": "light"
     },
     "output_type": "display_data"
    }
   ],
   "source": [
    "#  OPTIONS  #\n",
    " \n",
    "df = pd.read_csv(f\"{DataPath}/CA-prod-pgen_distr.csv\", index_col=0 )\n",
    "figsize = (3, 1.5)\n",
    "columns = HEADERS + ['gen']\n",
    "errorbars = [c + ' err' for c in columns]\n",
    "colors = [ EXP15_KOL[c] for c in columns ]\n",
    "linestyle = ['-'] * len(HEADERS) + ['-']\n",
    "\n",
    "ax = curvePlotter( df, colors=colors, grid=False, legend=False, linestyle=linestyle,\n",
    "                  columns=columns, figsize=figsize, errorbars=None )\n",
    "plt.margins(0)\n",
    "\n",
    "#ax.set_yscale('log')\n",
    "ax.set_xlim([3, 20])\n",
    "ax.set_ylim([0, np.max(df.values) * 1.05 ])\n",
    "ax.set_xticks([4,12,20])\n",
    "\n",
    "ax.axvline(x=df.index[df['gen'].argmax()], \n",
    "           zorder =-2, ls='--', lw=1, color=GREYS_DIC['silver'])\n",
    "\n",
    "plt.savefig( f\"{OutPath}/fig2C.pdf\", bbox_inches='tight' )\n",
    "\n",
    "plt.show()"
   ]
  },
  {
   "cell_type": "code",
   "execution_count": null,
   "metadata": {},
   "outputs": [],
   "source": []
  }
 ],
 "metadata": {
  "interpreter": {
   "hash": "1ca6294cbb32705ba8e9d5f1c61ac24f2b2b51f4ed14a5137959c5b73ca963d8"
  },
  "kernelspec": {
   "display_name": "Python 3.7.4 ('base': conda)",
   "language": "python",
   "name": "python3"
  },
  "language_info": {
   "codemirror_mode": {
    "name": "ipython",
    "version": 3
   },
   "file_extension": ".py",
   "mimetype": "text/x-python",
   "name": "python",
   "nbconvert_exporter": "python",
   "pygments_lexer": "ipython3",
   "version": "3.7.4"
  },
  "orig_nbformat": 4
 },
 "nbformat": 4,
 "nbformat_minor": 2
}
